{
  "nbformat": 4,
  "nbformat_minor": 0,
  "metadata": {
    "colab": {
      "name": "gradio.ipynb",
      "provenance": []
    },
    "kernelspec": {
      "name": "python3",
      "display_name": "Python 3"
    },
    "language_info": {
      "name": "python"
    }
  },
  "cells": [
    {
      "cell_type": "code",
      "execution_count": 1,
      "metadata": {
        "colab": {
          "base_uri": "https://localhost:8080/"
        },
        "id": "6w2jkmlwlkRp",
        "outputId": "c457917e-e35e-4555-adf5-f4612888d148"
      },
      "outputs": [
        {
          "output_type": "stream",
          "name": "stdout",
          "text": [
            "Collecting gradio\n",
            "  Downloading gradio-2.7.0-py3-none-any.whl (865 kB)\n",
            "\u001b[?25l\r\u001b[K     |▍                               | 10 kB 13.9 MB/s eta 0:00:01\r\u001b[K     |▊                               | 20 kB 14.9 MB/s eta 0:00:01\r\u001b[K     |█▏                              | 30 kB 10.7 MB/s eta 0:00:01\r\u001b[K     |█▌                              | 40 kB 8.9 MB/s eta 0:00:01\r\u001b[K     |██                              | 51 kB 5.4 MB/s eta 0:00:01\r\u001b[K     |██▎                             | 61 kB 5.7 MB/s eta 0:00:01\r\u001b[K     |██▋                             | 71 kB 5.5 MB/s eta 0:00:01\r\u001b[K     |███                             | 81 kB 6.2 MB/s eta 0:00:01\r\u001b[K     |███▍                            | 92 kB 6.1 MB/s eta 0:00:01\r\u001b[K     |███▉                            | 102 kB 5.1 MB/s eta 0:00:01\r\u001b[K     |████▏                           | 112 kB 5.1 MB/s eta 0:00:01\r\u001b[K     |████▌                           | 122 kB 5.1 MB/s eta 0:00:01\r\u001b[K     |█████                           | 133 kB 5.1 MB/s eta 0:00:01\r\u001b[K     |█████▎                          | 143 kB 5.1 MB/s eta 0:00:01\r\u001b[K     |█████▊                          | 153 kB 5.1 MB/s eta 0:00:01\r\u001b[K     |██████                          | 163 kB 5.1 MB/s eta 0:00:01\r\u001b[K     |██████▍                         | 174 kB 5.1 MB/s eta 0:00:01\r\u001b[K     |██████▉                         | 184 kB 5.1 MB/s eta 0:00:01\r\u001b[K     |███████▏                        | 194 kB 5.1 MB/s eta 0:00:01\r\u001b[K     |███████▋                        | 204 kB 5.1 MB/s eta 0:00:01\r\u001b[K     |████████                        | 215 kB 5.1 MB/s eta 0:00:01\r\u001b[K     |████████▎                       | 225 kB 5.1 MB/s eta 0:00:01\r\u001b[K     |████████▊                       | 235 kB 5.1 MB/s eta 0:00:01\r\u001b[K     |█████████                       | 245 kB 5.1 MB/s eta 0:00:01\r\u001b[K     |█████████▌                      | 256 kB 5.1 MB/s eta 0:00:01\r\u001b[K     |█████████▉                      | 266 kB 5.1 MB/s eta 0:00:01\r\u001b[K     |██████████▏                     | 276 kB 5.1 MB/s eta 0:00:01\r\u001b[K     |██████████▋                     | 286 kB 5.1 MB/s eta 0:00:01\r\u001b[K     |███████████                     | 296 kB 5.1 MB/s eta 0:00:01\r\u001b[K     |███████████▍                    | 307 kB 5.1 MB/s eta 0:00:01\r\u001b[K     |███████████▊                    | 317 kB 5.1 MB/s eta 0:00:01\r\u001b[K     |████████████▏                   | 327 kB 5.1 MB/s eta 0:00:01\r\u001b[K     |████████████▌                   | 337 kB 5.1 MB/s eta 0:00:01\r\u001b[K     |████████████▉                   | 348 kB 5.1 MB/s eta 0:00:01\r\u001b[K     |█████████████▎                  | 358 kB 5.1 MB/s eta 0:00:01\r\u001b[K     |█████████████▋                  | 368 kB 5.1 MB/s eta 0:00:01\r\u001b[K     |██████████████                  | 378 kB 5.1 MB/s eta 0:00:01\r\u001b[K     |██████████████▍                 | 389 kB 5.1 MB/s eta 0:00:01\r\u001b[K     |██████████████▊                 | 399 kB 5.1 MB/s eta 0:00:01\r\u001b[K     |███████████████▏                | 409 kB 5.1 MB/s eta 0:00:01\r\u001b[K     |███████████████▌                | 419 kB 5.1 MB/s eta 0:00:01\r\u001b[K     |████████████████                | 430 kB 5.1 MB/s eta 0:00:01\r\u001b[K     |████████████████▎               | 440 kB 5.1 MB/s eta 0:00:01\r\u001b[K     |████████████████▋               | 450 kB 5.1 MB/s eta 0:00:01\r\u001b[K     |█████████████████               | 460 kB 5.1 MB/s eta 0:00:01\r\u001b[K     |█████████████████▍              | 471 kB 5.1 MB/s eta 0:00:01\r\u001b[K     |█████████████████▉              | 481 kB 5.1 MB/s eta 0:00:01\r\u001b[K     |██████████████████▏             | 491 kB 5.1 MB/s eta 0:00:01\r\u001b[K     |██████████████████▌             | 501 kB 5.1 MB/s eta 0:00:01\r\u001b[K     |███████████████████             | 512 kB 5.1 MB/s eta 0:00:01\r\u001b[K     |███████████████████▎            | 522 kB 5.1 MB/s eta 0:00:01\r\u001b[K     |███████████████████▊            | 532 kB 5.1 MB/s eta 0:00:01\r\u001b[K     |████████████████████            | 542 kB 5.1 MB/s eta 0:00:01\r\u001b[K     |████████████████████▍           | 552 kB 5.1 MB/s eta 0:00:01\r\u001b[K     |████████████████████▉           | 563 kB 5.1 MB/s eta 0:00:01\r\u001b[K     |█████████████████████▏          | 573 kB 5.1 MB/s eta 0:00:01\r\u001b[K     |█████████████████████▋          | 583 kB 5.1 MB/s eta 0:00:01\r\u001b[K     |██████████████████████          | 593 kB 5.1 MB/s eta 0:00:01\r\u001b[K     |██████████████████████▎         | 604 kB 5.1 MB/s eta 0:00:01\r\u001b[K     |██████████████████████▊         | 614 kB 5.1 MB/s eta 0:00:01\r\u001b[K     |███████████████████████         | 624 kB 5.1 MB/s eta 0:00:01\r\u001b[K     |███████████████████████▌        | 634 kB 5.1 MB/s eta 0:00:01\r\u001b[K     |███████████████████████▉        | 645 kB 5.1 MB/s eta 0:00:01\r\u001b[K     |████████████████████████▎       | 655 kB 5.1 MB/s eta 0:00:01\r\u001b[K     |████████████████████████▋       | 665 kB 5.1 MB/s eta 0:00:01\r\u001b[K     |█████████████████████████       | 675 kB 5.1 MB/s eta 0:00:01\r\u001b[K     |█████████████████████████▍      | 686 kB 5.1 MB/s eta 0:00:01\r\u001b[K     |█████████████████████████▊      | 696 kB 5.1 MB/s eta 0:00:01\r\u001b[K     |██████████████████████████▏     | 706 kB 5.1 MB/s eta 0:00:01\r\u001b[K     |██████████████████████████▌     | 716 kB 5.1 MB/s eta 0:00:01\r\u001b[K     |██████████████████████████▉     | 727 kB 5.1 MB/s eta 0:00:01\r\u001b[K     |███████████████████████████▎    | 737 kB 5.1 MB/s eta 0:00:01\r\u001b[K     |███████████████████████████▋    | 747 kB 5.1 MB/s eta 0:00:01\r\u001b[K     |████████████████████████████    | 757 kB 5.1 MB/s eta 0:00:01\r\u001b[K     |████████████████████████████▍   | 768 kB 5.1 MB/s eta 0:00:01\r\u001b[K     |████████████████████████████▊   | 778 kB 5.1 MB/s eta 0:00:01\r\u001b[K     |█████████████████████████████▏  | 788 kB 5.1 MB/s eta 0:00:01\r\u001b[K     |█████████████████████████████▌  | 798 kB 5.1 MB/s eta 0:00:01\r\u001b[K     |██████████████████████████████  | 808 kB 5.1 MB/s eta 0:00:01\r\u001b[K     |██████████████████████████████▎ | 819 kB 5.1 MB/s eta 0:00:01\r\u001b[K     |██████████████████████████████▋ | 829 kB 5.1 MB/s eta 0:00:01\r\u001b[K     |███████████████████████████████ | 839 kB 5.1 MB/s eta 0:00:01\r\u001b[K     |███████████████████████████████▍| 849 kB 5.1 MB/s eta 0:00:01\r\u001b[K     |███████████████████████████████▉| 860 kB 5.1 MB/s eta 0:00:01\r\u001b[K     |████████████████████████████████| 865 kB 5.1 MB/s \n",
            "\u001b[?25hCollecting flask-cachebuster\n",
            "  Downloading Flask-CacheBuster-1.0.0.tar.gz (3.1 kB)\n",
            "Requirement already satisfied: pandas in /usr/local/lib/python3.7/dist-packages (from gradio) (1.1.5)\n",
            "Requirement already satisfied: Flask>=1.1.1 in /usr/local/lib/python3.7/dist-packages (from gradio) (1.1.4)\n",
            "Collecting pydub\n",
            "  Downloading pydub-0.25.1-py2.py3-none-any.whl (32 kB)\n",
            "Requirement already satisfied: requests in /usr/local/lib/python3.7/dist-packages (from gradio) (2.23.0)\n",
            "Collecting ffmpy\n",
            "  Downloading ffmpy-0.3.0.tar.gz (4.8 kB)\n",
            "Collecting markdown2\n",
            "  Downloading markdown2-2.4.2-py2.py3-none-any.whl (34 kB)\n",
            "Requirement already satisfied: numpy in /usr/local/lib/python3.7/dist-packages (from gradio) (1.19.5)\n",
            "Collecting paramiko\n",
            "  Downloading paramiko-2.9.2-py2.py3-none-any.whl (210 kB)\n",
            "\u001b[K     |████████████████████████████████| 210 kB 56.7 MB/s \n",
            "\u001b[?25hCollecting Flask-Cors>=3.0.8\n",
            "  Downloading Flask_Cors-3.0.10-py2.py3-none-any.whl (14 kB)\n",
            "Collecting analytics-python\n",
            "  Downloading analytics_python-1.4.0-py2.py3-none-any.whl (15 kB)\n",
            "Collecting pycryptodome\n",
            "  Downloading pycryptodome-3.12.0-cp35-abi3-manylinux2010_x86_64.whl (2.0 MB)\n",
            "\u001b[K     |████████████████████████████████| 2.0 MB 43.3 MB/s \n",
            "\u001b[?25hRequirement already satisfied: pillow in /usr/local/lib/python3.7/dist-packages (from gradio) (7.1.2)\n",
            "Collecting Flask-Login\n",
            "  Downloading Flask_Login-0.5.0-py2.py3-none-any.whl (16 kB)\n",
            "Requirement already satisfied: matplotlib in /usr/local/lib/python3.7/dist-packages (from gradio) (3.2.2)\n",
            "Requirement already satisfied: Werkzeug<2.0,>=0.15 in /usr/local/lib/python3.7/dist-packages (from Flask>=1.1.1->gradio) (1.0.1)\n",
            "Requirement already satisfied: click<8.0,>=5.1 in /usr/local/lib/python3.7/dist-packages (from Flask>=1.1.1->gradio) (7.1.2)\n",
            "Requirement already satisfied: Jinja2<3.0,>=2.10.1 in /usr/local/lib/python3.7/dist-packages (from Flask>=1.1.1->gradio) (2.11.3)\n",
            "Requirement already satisfied: itsdangerous<2.0,>=0.24 in /usr/local/lib/python3.7/dist-packages (from Flask>=1.1.1->gradio) (1.1.0)\n",
            "Requirement already satisfied: Six in /usr/local/lib/python3.7/dist-packages (from Flask-Cors>=3.0.8->gradio) (1.15.0)\n",
            "Requirement already satisfied: MarkupSafe>=0.23 in /usr/local/lib/python3.7/dist-packages (from Jinja2<3.0,>=2.10.1->Flask>=1.1.1->gradio) (2.0.1)\n",
            "Collecting monotonic>=1.5\n",
            "  Downloading monotonic-1.6-py2.py3-none-any.whl (8.2 kB)\n",
            "Collecting backoff==1.10.0\n",
            "  Downloading backoff-1.10.0-py2.py3-none-any.whl (31 kB)\n",
            "Requirement already satisfied: python-dateutil>2.1 in /usr/local/lib/python3.7/dist-packages (from analytics-python->gradio) (2.8.2)\n",
            "Requirement already satisfied: idna<3,>=2.5 in /usr/local/lib/python3.7/dist-packages (from requests->gradio) (2.10)\n",
            "Requirement already satisfied: certifi>=2017.4.17 in /usr/local/lib/python3.7/dist-packages (from requests->gradio) (2021.10.8)\n",
            "Requirement already satisfied: urllib3!=1.25.0,!=1.25.1,<1.26,>=1.21.1 in /usr/local/lib/python3.7/dist-packages (from requests->gradio) (1.24.3)\n",
            "Requirement already satisfied: chardet<4,>=3.0.2 in /usr/local/lib/python3.7/dist-packages (from requests->gradio) (3.0.4)\n",
            "Requirement already satisfied: pyparsing!=2.0.4,!=2.1.2,!=2.1.6,>=2.0.1 in /usr/local/lib/python3.7/dist-packages (from matplotlib->gradio) (3.0.6)\n",
            "Requirement already satisfied: cycler>=0.10 in /usr/local/lib/python3.7/dist-packages (from matplotlib->gradio) (0.11.0)\n",
            "Requirement already satisfied: kiwisolver>=1.0.1 in /usr/local/lib/python3.7/dist-packages (from matplotlib->gradio) (1.3.2)\n",
            "Requirement already satisfied: pytz>=2017.2 in /usr/local/lib/python3.7/dist-packages (from pandas->gradio) (2018.9)\n",
            "Collecting pynacl>=1.0.1\n",
            "  Downloading PyNaCl-1.5.0-cp36-abi3-manylinux_2_17_x86_64.manylinux2014_x86_64.manylinux_2_24_x86_64.whl (856 kB)\n",
            "\u001b[K     |████████████████████████████████| 856 kB 51.0 MB/s \n",
            "\u001b[?25hCollecting cryptography>=2.5\n",
            "  Downloading cryptography-36.0.1-cp36-abi3-manylinux_2_24_x86_64.whl (3.6 MB)\n",
            "\u001b[K     |████████████████████████████████| 3.6 MB 60.8 MB/s \n",
            "\u001b[?25hCollecting bcrypt>=3.1.3\n",
            "  Downloading bcrypt-3.2.0-cp36-abi3-manylinux_2_17_x86_64.manylinux2014_x86_64.manylinux_2_24_x86_64.whl (61 kB)\n",
            "\u001b[K     |████████████████████████████████| 61 kB 337 kB/s \n",
            "\u001b[?25hRequirement already satisfied: cffi>=1.1 in /usr/local/lib/python3.7/dist-packages (from bcrypt>=3.1.3->paramiko->gradio) (1.15.0)\n",
            "Requirement already satisfied: pycparser in /usr/local/lib/python3.7/dist-packages (from cffi>=1.1->bcrypt>=3.1.3->paramiko->gradio) (2.21)\n",
            "Building wheels for collected packages: ffmpy, flask-cachebuster\n",
            "  Building wheel for ffmpy (setup.py) ... \u001b[?25l\u001b[?25hdone\n",
            "  Created wheel for ffmpy: filename=ffmpy-0.3.0-py3-none-any.whl size=4712 sha256=6f03b2bc459fe03db8cc68bf8ae616c17a051ce0cc5569dafb69599790ebec79\n",
            "  Stored in directory: /root/.cache/pip/wheels/13/e4/6c/e8059816e86796a597c6e6b0d4c880630f51a1fcfa0befd5e6\n",
            "  Building wheel for flask-cachebuster (setup.py) ... \u001b[?25l\u001b[?25hdone\n",
            "  Created wheel for flask-cachebuster: filename=Flask_CacheBuster-1.0.0-py3-none-any.whl size=3373 sha256=83ff3137eae2e61f8dde2f6ecdbd40bc191ec5243a7005794fa18cdd495dc96b\n",
            "  Stored in directory: /root/.cache/pip/wheels/28/c0/c4/44687421dab41455be93112bd1b0dee1f3c5a9aa27bee63708\n",
            "Successfully built ffmpy flask-cachebuster\n",
            "Installing collected packages: pynacl, monotonic, cryptography, bcrypt, backoff, pydub, pycryptodome, paramiko, markdown2, Flask-Login, Flask-Cors, flask-cachebuster, ffmpy, analytics-python, gradio\n",
            "Successfully installed Flask-Cors-3.0.10 Flask-Login-0.5.0 analytics-python-1.4.0 backoff-1.10.0 bcrypt-3.2.0 cryptography-36.0.1 ffmpy-0.3.0 flask-cachebuster-1.0.0 gradio-2.7.0 markdown2-2.4.2 monotonic-1.6 paramiko-2.9.2 pycryptodome-3.12.0 pydub-0.25.1 pynacl-1.5.0\n"
          ]
        }
      ],
      "source": [
        "! pip install gradio"
      ]
    },
    {
      "cell_type": "code",
      "source": [
        "import gradio as gr"
      ],
      "metadata": {
        "id": "-GVepEzHlsQb"
      },
      "execution_count": 2,
      "outputs": []
    },
    {
      "cell_type": "code",
      "source": [
        "def predict_image(img):\n",
        "  img_3d=img.reshape(-1,28,28)\n",
        "  im_resize=img_3d/255.0\n",
        "  prediction=model.predict(im_resize)\n",
        "  pred=np.argmax(prediction)\n",
        "  return pred"
      ],
      "metadata": {
        "id": "CyUWtemklujm"
      },
      "execution_count": 3,
      "outputs": []
    },
    {
      "cell_type": "code",
      "source": [
        "iface = gr.Interface(predict_image, inputs=\"sketchpad\", outputs=\"label\")"
      ],
      "metadata": {
        "id": "ulihuxMWmZGn"
      },
      "execution_count": 4,
      "outputs": []
    },
    {
      "cell_type": "code",
      "source": [
        "iface.launch(debug=\"True\")"
      ],
      "metadata": {
        "colab": {
          "base_uri": "https://localhost:8080/",
          "height": 764
        },
        "id": "M0MIDkxYmdSr",
        "outputId": "1505bf6b-3c00-4fb3-b672-a191b2a3f613"
      },
      "execution_count": null,
      "outputs": [
        {
          "output_type": "stream",
          "name": "stdout",
          "text": [
            "Colab notebook detected. This cell will run indefinitely so that you can see errors and logs. To turn off, set debug=False in launch().\n",
            "Running on public URL: https://48910.gradio.app\n",
            "\n",
            "This share link expires in 72 hours. For free permanent hosting, check out Spaces (https://huggingface.co/spaces)\n"
          ]
        },
        {
          "output_type": "display_data",
          "data": {
            "text/html": [
              "\n",
              "        <iframe\n",
              "            width=\"900\"\n",
              "            height=\"500\"\n",
              "            src=\"https://48910.gradio.app\"\n",
              "            frameborder=\"0\"\n",
              "            allowfullscreen\n",
              "        ></iframe>\n",
              "        "
            ],
            "text/plain": [
              "<IPython.lib.display.IFrame at 0x7f7393cbd750>"
            ]
          },
          "metadata": {}
        },
        {
          "output_type": "stream",
          "name": "stderr",
          "text": [
            "Traceback (most recent call last):\n",
            "  File \"/usr/local/lib/python3.7/dist-packages/gradio/networking.py\", line 237, in predict\n",
            "    prediction, durations = app.interface.process(raw_input)\n",
            "  File \"/usr/local/lib/python3.7/dist-packages/gradio/interface.py\", line 412, in process\n",
            "    processed_input, return_duration=True)\n",
            "  File \"/usr/local/lib/python3.7/dist-packages/gradio/interface.py\", line 374, in run_prediction\n",
            "    prediction = predict_fn(*processed_input)\n",
            "  File \"<ipython-input-3-b3d0c364f65c>\", line 4, in predict_image\n",
            "    prediction=model.predict(im_resize)\n",
            "NameError: name 'model' is not defined\n"
          ]
        }
      ]
    },
    {
      "cell_type": "code",
      "source": [
        ""
      ],
      "metadata": {
        "id": "o-01DoPBmiLh"
      },
      "execution_count": null,
      "outputs": []
    }
  ]
}